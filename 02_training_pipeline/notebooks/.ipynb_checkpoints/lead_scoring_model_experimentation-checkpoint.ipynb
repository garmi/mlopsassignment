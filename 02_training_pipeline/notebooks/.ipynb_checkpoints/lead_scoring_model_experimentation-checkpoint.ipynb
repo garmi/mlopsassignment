{
 "cells": [
  {
   "cell_type": "markdown",
   "metadata": {
    "tags": []
   },
   "source": [
    "### 1 : Importing Libraries"
   ]
  },
  {
   "cell_type": "code",
   "execution_count": 1,
   "metadata": {
    "id": "AWb_Pph5GRXm"
   },
   "outputs": [],
   "source": [
    "# ignore the warnings in the output\n",
    "import warnings\n",
    "warnings.filterwarnings(\"ignore\")"
   ]
  },
  {
   "cell_type": "code",
   "execution_count": 2,
   "metadata": {},
   "outputs": [],
   "source": [
    "# import libraries and packages\n",
    "import numpy as np\n",
    "import pandas as pd \n",
    "import matplotlib.pyplot as plt\n",
    "import mlflow\n",
    "from pycaret.classification import *\n",
    "import os\n",
    "import sqlite3"
   ]
  },
  {
   "cell_type": "markdown",
   "metadata": {
    "tags": []
   },
   "source": [
    " ### 2 Reading Data"
   ]
  },
  {
   "cell_type": "code",
   "execution_count": 3,
   "metadata": {},
   "outputs": [
    {
     "name": "stdout",
     "output_type": "stream",
     "text": [
      "CPU times: user 6 µs, sys: 2 µs, total: 8 µs\n",
      "Wall time: 21.9 µs\n"
     ]
    }
   ],
   "source": [
    "##Copy the cleaned data obtained from the data_cleaning notebook into the Data folder before proceeding\n",
    "%time\n",
    "dataset = pd.read_csv('Data/cleaned_data.csv')"
   ]
  },
  {
   "cell_type": "code",
   "execution_count": 4,
   "metadata": {},
   "outputs": [
    {
     "data": {
      "text/html": [
       "<div>\n",
       "<style scoped>\n",
       "    .dataframe tbody tr th:only-of-type {\n",
       "        vertical-align: middle;\n",
       "    }\n",
       "\n",
       "    .dataframe tbody tr th {\n",
       "        vertical-align: top;\n",
       "    }\n",
       "\n",
       "    .dataframe thead th {\n",
       "        text-align: right;\n",
       "    }\n",
       "</style>\n",
       "<table border=\"1\" class=\"dataframe\">\n",
       "  <thead>\n",
       "    <tr style=\"text-align: right;\">\n",
       "      <th></th>\n",
       "      <th>created_date</th>\n",
       "      <th>city_tier</th>\n",
       "      <th>first_platform_c</th>\n",
       "      <th>first_utm_medium_c</th>\n",
       "      <th>first_utm_source_c</th>\n",
       "      <th>total_leads_droppped</th>\n",
       "      <th>referred_lead</th>\n",
       "      <th>app_complete_flag</th>\n",
       "      <th>assistance_interaction</th>\n",
       "      <th>career_interaction</th>\n",
       "      <th>payment_interaction</th>\n",
       "      <th>social_interaction</th>\n",
       "      <th>syllabus_interaction</th>\n",
       "    </tr>\n",
       "  </thead>\n",
       "  <tbody>\n",
       "    <tr>\n",
       "      <th>0</th>\n",
       "      <td>2021-07-01 00:08:15</td>\n",
       "      <td>1.0</td>\n",
       "      <td>Level0</td>\n",
       "      <td>Level11</td>\n",
       "      <td>Level2</td>\n",
       "      <td>1.0</td>\n",
       "      <td>0.0</td>\n",
       "      <td>1</td>\n",
       "      <td>0.0</td>\n",
       "      <td>0.0</td>\n",
       "      <td>0.0</td>\n",
       "      <td>0.0</td>\n",
       "      <td>0.0</td>\n",
       "    </tr>\n",
       "    <tr>\n",
       "      <th>1</th>\n",
       "      <td>2021-07-01 00:16:43</td>\n",
       "      <td>2.0</td>\n",
       "      <td>Level3</td>\n",
       "      <td>Level0</td>\n",
       "      <td>others</td>\n",
       "      <td>1.0</td>\n",
       "      <td>0.0</td>\n",
       "      <td>1</td>\n",
       "      <td>0.0</td>\n",
       "      <td>0.0</td>\n",
       "      <td>0.0</td>\n",
       "      <td>0.0</td>\n",
       "      <td>0.0</td>\n",
       "    </tr>\n",
       "    <tr>\n",
       "      <th>2</th>\n",
       "      <td>2021-07-01 00:22:20</td>\n",
       "      <td>1.0</td>\n",
       "      <td>Level3</td>\n",
       "      <td>Level0</td>\n",
       "      <td>Level0</td>\n",
       "      <td>1.0</td>\n",
       "      <td>0.0</td>\n",
       "      <td>1</td>\n",
       "      <td>0.0</td>\n",
       "      <td>0.0</td>\n",
       "      <td>0.0</td>\n",
       "      <td>0.0</td>\n",
       "      <td>0.0</td>\n",
       "    </tr>\n",
       "    <tr>\n",
       "      <th>3</th>\n",
       "      <td>2021-07-01 00:23:13</td>\n",
       "      <td>1.0</td>\n",
       "      <td>Level1</td>\n",
       "      <td>Level3</td>\n",
       "      <td>others</td>\n",
       "      <td>2.0</td>\n",
       "      <td>0.0</td>\n",
       "      <td>0</td>\n",
       "      <td>0.0</td>\n",
       "      <td>0.0</td>\n",
       "      <td>0.0</td>\n",
       "      <td>0.0</td>\n",
       "      <td>0.0</td>\n",
       "    </tr>\n",
       "    <tr>\n",
       "      <th>4</th>\n",
       "      <td>2021-07-01 00:28:38</td>\n",
       "      <td>1.0</td>\n",
       "      <td>Level3</td>\n",
       "      <td>Level0</td>\n",
       "      <td>Level0</td>\n",
       "      <td>1.0</td>\n",
       "      <td>0.0</td>\n",
       "      <td>0</td>\n",
       "      <td>0.0</td>\n",
       "      <td>0.0</td>\n",
       "      <td>0.0</td>\n",
       "      <td>0.0</td>\n",
       "      <td>0.0</td>\n",
       "    </tr>\n",
       "  </tbody>\n",
       "</table>\n",
       "</div>"
      ],
      "text/plain": [
       "          created_date  city_tier first_platform_c first_utm_medium_c  \\\n",
       "0  2021-07-01 00:08:15        1.0           Level0            Level11   \n",
       "1  2021-07-01 00:16:43        2.0           Level3             Level0   \n",
       "2  2021-07-01 00:22:20        1.0           Level3             Level0   \n",
       "3  2021-07-01 00:23:13        1.0           Level1             Level3   \n",
       "4  2021-07-01 00:28:38        1.0           Level3             Level0   \n",
       "\n",
       "  first_utm_source_c  total_leads_droppped  referred_lead  app_complete_flag  \\\n",
       "0             Level2                   1.0            0.0                  1   \n",
       "1             others                   1.0            0.0                  1   \n",
       "2             Level0                   1.0            0.0                  1   \n",
       "3             others                   2.0            0.0                  0   \n",
       "4             Level0                   1.0            0.0                  0   \n",
       "\n",
       "   assistance_interaction  career_interaction  payment_interaction  \\\n",
       "0                     0.0                 0.0                  0.0   \n",
       "1                     0.0                 0.0                  0.0   \n",
       "2                     0.0                 0.0                  0.0   \n",
       "3                     0.0                 0.0                  0.0   \n",
       "4                     0.0                 0.0                  0.0   \n",
       "\n",
       "   social_interaction  syllabus_interaction  \n",
       "0                 0.0                   0.0  \n",
       "1                 0.0                   0.0  \n",
       "2                 0.0                   0.0  \n",
       "3                 0.0                   0.0  \n",
       "4                 0.0                   0.0  "
      ]
     },
     "execution_count": 4,
     "metadata": {},
     "output_type": "execute_result"
    }
   ],
   "source": [
    "dataset.head()"
   ]
  },
  {
   "cell_type": "code",
   "execution_count": 5,
   "metadata": {},
   "outputs": [],
   "source": [
    "# drop the data column as it is not needed for training\n",
    "dataset = dataset.drop(['created_date'], axis=1)"
   ]
  },
  {
   "cell_type": "markdown",
   "metadata": {
    "tags": []
   },
   "source": [
    "### 3 Setting up Environment: "
   ]
  },
  {
   "cell_type": "code",
   "execution_count": 6,
   "metadata": {},
   "outputs": [],
   "source": [
    "# create a connection and setup a SQLite database with the name \"lead_scoring_model_experimentation.db\" in \n",
    "# 'Assignment/02_training_pipeline/notebooks/' location\n",
    "\n",
    "# Constants\n",
    "DB_PATH = \"/home/Assignment/01_data_pipeline/scripts/\"\n",
    "DB_FILE = \"lead_scoring_data_cleaning.db\"\n",
    "TABLE_NAME = \"cleaned_leads\"\n",
    "MLFLOW_TRACKING_URI = \"http://localhost:5000\"\n",
    "MODEL_NAME = \"lead_scoring_model\"\n",
    "\n",
    "# Connect to Database\n",
    "db_full_path = os.path.join(DB_PATH, DB_FILE)\n",
    "conn = sqlite3.connect(db_full_path)\n"
   ]
  },
  {
   "cell_type": "code",
   "execution_count": 7,
   "metadata": {},
   "outputs": [
    {
     "name": "stdout",
     "output_type": "stream",
     "text": [
      "Data Loaded Successfully!\n"
     ]
    }
   ],
   "source": [
    "# Load Data\n",
    "df = pd.read_sql(f\"SELECT * FROM {TABLE_NAME}\", conn)\n",
    "conn.close()\n",
    "print(\"Data Loaded Successfully!\")"
   ]
  },
  {
   "cell_type": "code",
   "execution_count": 10,
   "metadata": {},
   "outputs": [
    {
     "name": "stdout",
     "output_type": "stream",
     "text": [
      "Index(['created_date', 'city_tier', 'first_platform_c', 'first_utm_medium_c',\n",
      "       'first_utm_source_c', 'total_leads_droppped', 'referred_lead',\n",
      "       'app_complete_flag', 'assistance_interaction', 'career_interaction',\n",
      "       'payment_interaction', 'social_interaction', 'syllabus_interaction'],\n",
      "      dtype='object')\n"
     ]
    }
   ],
   "source": [
    "\n",
    "df = pd.read_csv(\"/home/Assignment/02_training_pipeline/notebooks/Data/cleaned_data.csv\")\n",
    "print(df.columns)\n"
   ]
  },
  {
   "cell_type": "code",
   "execution_count": 8,
   "metadata": {},
   "outputs": [
    {
     "data": {
      "text/plain": [
       "'\\nNow you need to start the MLflow server in a new terminal. \\nNote: Before you start the MLflow server, create a folder named mlruns in the assignment directory.\\nNow you need to run the command to start MLflow server such that:\\n1. The lead_scoring_model_experimentation.db which you created above is used as the backend-store.\\n2. mlruns folder is used as an artifact directory. \\n3. The server runs on the port 6006.\\n\\nThe steps to do so are as follows:\\nOpen a new terminal.\\nThen go to the Assignment directory using the cd command. Type the command: cd Assignment/\\nCreate a folder named mlruns here. You can create this folder using either the command line or GUI. To create this folder via the command line run the command: mkdir ./mlruns\\nThen, type the following command to start the MLflow server: \\nmlflow server --backend-store-uri=\\'sqlite:///./02_training_pipeline/notebooks/lead_scoring_model_experimentation.db\\' --default-artifact-root=\"./mlruns\" --port=6006 --host=0.0.0.0\\n'"
      ]
     },
     "execution_count": 8,
     "metadata": {},
     "output_type": "execute_result"
    }
   ],
   "source": [
    "'''\n",
    "Now you need to start the MLflow server in a new terminal. \n",
    "Note: Before you start the MLflow server, create a folder named mlruns in the assignment directory.\n",
    "Now you need to run the command to start MLflow server such that:\n",
    "1. The lead_scoring_model_experimentation.db which you created above is used as the backend-store.\n",
    "2. mlruns folder is used as an artifact directory. \n",
    "3. The server runs on the port 6006.\n",
    "\n",
    "The steps to do so are as follows:\n",
    "Open a new terminal.\n",
    "Then go to the Assignment directory using the cd command. Type the command: cd Assignment/\n",
    "Create a folder named mlruns here. You can create this folder using either the command line or GUI. To create this folder via the command line run the command: mkdir ./mlruns\n",
    "Then, type the following command to start the MLflow server: \n",
    "mlflow server --backend-store-uri='sqlite:///./02_training_pipeline/notebooks/lead_scoring_model_experimentation.db' --default-artifact-root=\"./mlruns\" --port=6006 --host=0.0.0.0\n",
    "'''"
   ]
  },
  {
   "cell_type": "code",
   "execution_count": null,
   "metadata": {},
   "outputs": [],
   "source": [
    "# Once, your server is successfully running, create a mlflow tracking uri at \"http://0.0.0.0:6006\"\n",
    "mlflow.set_tracking_uri(\"http://0.0.0.0:6006\")"
   ]
  },
  {
   "cell_type": "markdown",
   "metadata": {
    "tags": []
   },
   "source": [
    "### 4 : Model Experimentation with pycaret"
   ]
  },
  {
   "cell_type": "code",
   "execution_count": 11,
   "metadata": {},
   "outputs": [
    {
     "data": {
      "text/html": [
       "<style type=\"text/css\">\n",
       "#T_b0120 th {\n",
       "  text-align: left;\n",
       "}\n",
       "#T_b0120_row0_col0, #T_b0120_row0_col3, #T_b0120_row0_col5, #T_b0120_row1_col0, #T_b0120_row1_col1, #T_b0120_row1_col2, #T_b0120_row1_col4, #T_b0120_row1_col6, #T_b0120_row2_col0, #T_b0120_row2_col1, #T_b0120_row2_col2, #T_b0120_row2_col3, #T_b0120_row2_col4, #T_b0120_row2_col5, #T_b0120_row2_col6, #T_b0120_row2_col7, #T_b0120_row3_col0, #T_b0120_row3_col1, #T_b0120_row3_col2, #T_b0120_row3_col3, #T_b0120_row3_col4, #T_b0120_row3_col5, #T_b0120_row3_col6, #T_b0120_row3_col7 {\n",
       "  text-align: left;\n",
       "}\n",
       "#T_b0120_row0_col1, #T_b0120_row0_col2, #T_b0120_row0_col4, #T_b0120_row0_col6, #T_b0120_row0_col7, #T_b0120_row1_col3, #T_b0120_row1_col5, #T_b0120_row1_col7 {\n",
       "  text-align: left;\n",
       "  background-color: yellow;\n",
       "}\n",
       "#T_b0120_row0_col8, #T_b0120_row1_col8, #T_b0120_row2_col8 {\n",
       "  text-align: left;\n",
       "  background-color: lightgrey;\n",
       "}\n",
       "#T_b0120_row3_col8 {\n",
       "  text-align: left;\n",
       "  background-color: yellow;\n",
       "  background-color: lightgrey;\n",
       "}\n",
       "</style>\n",
       "<table id=\"T_b0120\">\n",
       "  <thead>\n",
       "    <tr>\n",
       "      <th class=\"blank level0\" >&nbsp;</th>\n",
       "      <th id=\"T_b0120_level0_col0\" class=\"col_heading level0 col0\" >Model</th>\n",
       "      <th id=\"T_b0120_level0_col1\" class=\"col_heading level0 col1\" >Accuracy</th>\n",
       "      <th id=\"T_b0120_level0_col2\" class=\"col_heading level0 col2\" >AUC</th>\n",
       "      <th id=\"T_b0120_level0_col3\" class=\"col_heading level0 col3\" >Recall</th>\n",
       "      <th id=\"T_b0120_level0_col4\" class=\"col_heading level0 col4\" >Prec.</th>\n",
       "      <th id=\"T_b0120_level0_col5\" class=\"col_heading level0 col5\" >F1</th>\n",
       "      <th id=\"T_b0120_level0_col6\" class=\"col_heading level0 col6\" >Kappa</th>\n",
       "      <th id=\"T_b0120_level0_col7\" class=\"col_heading level0 col7\" >MCC</th>\n",
       "      <th id=\"T_b0120_level0_col8\" class=\"col_heading level0 col8\" >TT (Sec)</th>\n",
       "    </tr>\n",
       "  </thead>\n",
       "  <tbody>\n",
       "    <tr>\n",
       "      <th id=\"T_b0120_level0_row0\" class=\"row_heading level0 row0\" >xgboost</th>\n",
       "      <td id=\"T_b0120_row0_col0\" class=\"data row0 col0\" >Extreme Gradient Boosting</td>\n",
       "      <td id=\"T_b0120_row0_col1\" class=\"data row0 col1\" >0.7473</td>\n",
       "      <td id=\"T_b0120_row0_col2\" class=\"data row0 col2\" >0.8294</td>\n",
       "      <td id=\"T_b0120_row0_col3\" class=\"data row0 col3\" >0.8306</td>\n",
       "      <td id=\"T_b0120_row0_col4\" class=\"data row0 col4\" >0.7137</td>\n",
       "      <td id=\"T_b0120_row0_col5\" class=\"data row0 col5\" >0.7677</td>\n",
       "      <td id=\"T_b0120_row0_col6\" class=\"data row0 col6\" >0.4941</td>\n",
       "      <td id=\"T_b0120_row0_col7\" class=\"data row0 col7\" >0.5009</td>\n",
       "      <td id=\"T_b0120_row0_col8\" class=\"data row0 col8\" >13.0180</td>\n",
       "    </tr>\n",
       "    <tr>\n",
       "      <th id=\"T_b0120_level0_row1\" class=\"row_heading level0 row1\" >lightgbm</th>\n",
       "      <td id=\"T_b0120_row1_col0\" class=\"data row1 col0\" >Light Gradient Boosting Machine</td>\n",
       "      <td id=\"T_b0120_row1_col1\" class=\"data row1 col1\" >0.7469</td>\n",
       "      <td id=\"T_b0120_row1_col2\" class=\"data row1 col2\" >0.8283</td>\n",
       "      <td id=\"T_b0120_row1_col3\" class=\"data row1 col3\" >0.8345</td>\n",
       "      <td id=\"T_b0120_row1_col4\" class=\"data row1 col4\" >0.7118</td>\n",
       "      <td id=\"T_b0120_row1_col5\" class=\"data row1 col5\" >0.7683</td>\n",
       "      <td id=\"T_b0120_row1_col6\" class=\"data row1 col6\" >0.4932</td>\n",
       "      <td id=\"T_b0120_row1_col7\" class=\"data row1 col7\" >0.5009</td>\n",
       "      <td id=\"T_b0120_row1_col8\" class=\"data row1 col8\" >0.4480</td>\n",
       "    </tr>\n",
       "    <tr>\n",
       "      <th id=\"T_b0120_level0_row2\" class=\"row_heading level0 row2\" >rf</th>\n",
       "      <td id=\"T_b0120_row2_col0\" class=\"data row2 col0\" >Random Forest Classifier</td>\n",
       "      <td id=\"T_b0120_row2_col1\" class=\"data row2 col1\" >0.7156</td>\n",
       "      <td id=\"T_b0120_row2_col2\" class=\"data row2 col2\" >0.7890</td>\n",
       "      <td id=\"T_b0120_row2_col3\" class=\"data row2 col3\" >0.7574</td>\n",
       "      <td id=\"T_b0120_row2_col4\" class=\"data row2 col4\" >0.7011</td>\n",
       "      <td id=\"T_b0120_row2_col5\" class=\"data row2 col5\" >0.7281</td>\n",
       "      <td id=\"T_b0120_row2_col6\" class=\"data row2 col6\" >0.4310</td>\n",
       "      <td id=\"T_b0120_row2_col7\" class=\"data row2 col7\" >0.4324</td>\n",
       "      <td id=\"T_b0120_row2_col8\" class=\"data row2 col8\" >5.4760</td>\n",
       "    </tr>\n",
       "    <tr>\n",
       "      <th id=\"T_b0120_level0_row3\" class=\"row_heading level0 row3\" >dt</th>\n",
       "      <td id=\"T_b0120_row3_col0\" class=\"data row3 col0\" >Decision Tree Classifier</td>\n",
       "      <td id=\"T_b0120_row3_col1\" class=\"data row3 col1\" >0.6830</td>\n",
       "      <td id=\"T_b0120_row3_col2\" class=\"data row3 col2\" >0.7044</td>\n",
       "      <td id=\"T_b0120_row3_col3\" class=\"data row3 col3\" >0.6532</td>\n",
       "      <td id=\"T_b0120_row3_col4\" class=\"data row3 col4\" >0.6972</td>\n",
       "      <td id=\"T_b0120_row3_col5\" class=\"data row3 col5\" >0.6745</td>\n",
       "      <td id=\"T_b0120_row3_col6\" class=\"data row3 col6\" >0.3662</td>\n",
       "      <td id=\"T_b0120_row3_col7\" class=\"data row3 col7\" >0.3669</td>\n",
       "      <td id=\"T_b0120_row3_col8\" class=\"data row3 col8\" >0.4350</td>\n",
       "    </tr>\n",
       "  </tbody>\n",
       "</table>\n"
      ],
      "text/plain": [
       "<pandas.io.formats.style.Styler at 0x7f13ca305940>"
      ]
     },
     "metadata": {},
     "output_type": "display_data"
    }
   ],
   "source": [
    "# create a experimentation with pycaret and exclude ['gbc','knn','qda', 'dummy', 'svm', 'ada']\n",
    "exp1 = setup(data=df, target='app_complete_flag', normalize=True, transformation=True, silent=True, \n",
    "             remove_perfect_collinearity=True,experiment_name='Lead_Scoring_Model_Experimentation', session_id=42)\n",
    "\n",
    "# Manually specify the models we want to use (excluding the unwanted ones)\n",
    "best_model = compare_models(include=['rf', 'lightgbm', 'dt', 'xgboost'])\n"
   ]
  },
  {
   "cell_type": "code",
   "execution_count": null,
   "metadata": {},
   "outputs": [
    {
     "data": {
      "application/vnd.jupyter.widget-view+json": {
       "model_id": "69e04be062d94753a6e63dabadc6accd",
       "version_major": 2,
       "version_minor": 0
      },
      "text/plain": [
       "IntProgress(value=0, description='Processing: ', max=79)"
      ]
     },
     "metadata": {},
     "output_type": "display_data"
    },
    {
     "data": {
      "text/html": [
       "<div>\n",
       "<style scoped>\n",
       "    .dataframe tbody tr th:only-of-type {\n",
       "        vertical-align: middle;\n",
       "    }\n",
       "\n",
       "    .dataframe tbody tr th {\n",
       "        vertical-align: top;\n",
       "    }\n",
       "\n",
       "    .dataframe thead th {\n",
       "        text-align: right;\n",
       "    }\n",
       "</style>\n",
       "<table border=\"1\" class=\"dataframe\">\n",
       "  <thead>\n",
       "    <tr style=\"text-align: right;\">\n",
       "      <th></th>\n",
       "      <th></th>\n",
       "      <th></th>\n",
       "    </tr>\n",
       "    <tr>\n",
       "      <th></th>\n",
       "      <th></th>\n",
       "      <th></th>\n",
       "    </tr>\n",
       "  </thead>\n",
       "  <tbody>\n",
       "    <tr>\n",
       "      <th>Initiated</th>\n",
       "      <td>. . . . . . . . . . . . . . . . . .</td>\n",
       "      <td>13:23:08</td>\n",
       "    </tr>\n",
       "    <tr>\n",
       "      <th>Status</th>\n",
       "      <td>. . . . . . . . . . . . . . . . . .</td>\n",
       "      <td>Fitting 10 Folds</td>\n",
       "    </tr>\n",
       "    <tr>\n",
       "      <th>Estimator</th>\n",
       "      <td>. . . . . . . . . . . . . . . . . .</td>\n",
       "      <td>K Neighbors Classifier</td>\n",
       "    </tr>\n",
       "  </tbody>\n",
       "</table>\n",
       "</div>"
      ],
      "text/plain": [
       "                                                                      \n",
       "                                                                      \n",
       "Initiated  . . . . . . . . . . . . . . . . . .                13:23:08\n",
       "Status     . . . . . . . . . . . . . . . . . .        Fitting 10 Folds\n",
       "Estimator  . . . . . . . . . . . . . . . . . .  K Neighbors Classifier"
      ]
     },
     "metadata": {},
     "output_type": "display_data"
    },
    {
     "data": {
      "text/html": [
       "<style type=\"text/css\">\n",
       "#T_67ce6 th {\n",
       "  text-align: left;\n",
       "}\n",
       "#T_67ce6_row0_col0, #T_67ce6_row0_col1, #T_67ce6_row0_col2, #T_67ce6_row0_col3, #T_67ce6_row0_col4, #T_67ce6_row0_col5, #T_67ce6_row0_col6, #T_67ce6_row0_col7, #T_67ce6_row0_col8 {\n",
       "  text-align: left;\n",
       "}\n",
       "</style>\n",
       "<table id=\"T_67ce6\">\n",
       "  <thead>\n",
       "    <tr>\n",
       "      <th class=\"blank level0\" >&nbsp;</th>\n",
       "      <th id=\"T_67ce6_level0_col0\" class=\"col_heading level0 col0\" >Model</th>\n",
       "      <th id=\"T_67ce6_level0_col1\" class=\"col_heading level0 col1\" >Accuracy</th>\n",
       "      <th id=\"T_67ce6_level0_col2\" class=\"col_heading level0 col2\" >AUC</th>\n",
       "      <th id=\"T_67ce6_level0_col3\" class=\"col_heading level0 col3\" >Recall</th>\n",
       "      <th id=\"T_67ce6_level0_col4\" class=\"col_heading level0 col4\" >Prec.</th>\n",
       "      <th id=\"T_67ce6_level0_col5\" class=\"col_heading level0 col5\" >F1</th>\n",
       "      <th id=\"T_67ce6_level0_col6\" class=\"col_heading level0 col6\" >Kappa</th>\n",
       "      <th id=\"T_67ce6_level0_col7\" class=\"col_heading level0 col7\" >MCC</th>\n",
       "      <th id=\"T_67ce6_level0_col8\" class=\"col_heading level0 col8\" >TT (Sec)</th>\n",
       "    </tr>\n",
       "  </thead>\n",
       "  <tbody>\n",
       "    <tr>\n",
       "      <th id=\"T_67ce6_level0_row0\" class=\"row_heading level0 row0\" >lr</th>\n",
       "      <td id=\"T_67ce6_row0_col0\" class=\"data row0 col0\" >Logistic Regression</td>\n",
       "      <td id=\"T_67ce6_row0_col1\" class=\"data row0 col1\" >0.7188</td>\n",
       "      <td id=\"T_67ce6_row0_col2\" class=\"data row0 col2\" >0.7930</td>\n",
       "      <td id=\"T_67ce6_row0_col3\" class=\"data row0 col3\" >0.7945</td>\n",
       "      <td id=\"T_67ce6_row0_col4\" class=\"data row0 col4\" >0.6920</td>\n",
       "      <td id=\"T_67ce6_row0_col5\" class=\"data row0 col5\" >0.7397</td>\n",
       "      <td id=\"T_67ce6_row0_col6\" class=\"data row0 col6\" >0.4371</td>\n",
       "      <td id=\"T_67ce6_row0_col7\" class=\"data row0 col7\" >0.4421</td>\n",
       "      <td id=\"T_67ce6_row0_col8\" class=\"data row0 col8\" >1.1070</td>\n",
       "    </tr>\n",
       "  </tbody>\n",
       "</table>\n"
      ],
      "text/plain": [
       "<pandas.io.formats.style.Styler at 0x7f13c79ddaf0>"
      ]
     },
     "metadata": {},
     "output_type": "display_data"
    },
    {
     "name": "stderr",
     "output_type": "stream",
     "text": [
      "/opt/conda/lib/python3.8/site-packages/xgboost/compat.py:36: FutureWarning: pandas.Int64Index is deprecated and will be removed from pandas in a future version. Use pandas.Index with the appropriate dtype instead.\n",
      "  from pandas import MultiIndex, Int64Index\n",
      "/opt/conda/lib/python3.8/site-packages/xgboost/sklearn.py:1224: UserWarning: The use of label encoder in XGBClassifier is deprecated and will be removed in a future release. To remove this warning, do the following: 1) Pass option use_label_encoder=False when constructing XGBClassifier object; and 2) Encode your labels (y) as integers starting with 0, i.e. 0, 1, 2, ..., [num_class - 1].\n",
      "  warnings.warn(label_encoder_deprecation_msg, UserWarning)\n",
      "/opt/conda/lib/python3.8/site-packages/xgboost/data.py:250: FutureWarning: pandas.Int64Index is deprecated and will be removed from pandas in a future version. Use pandas.Index with the appropriate dtype instead.\n",
      "  elif isinstance(data.columns, (pd.Int64Index, pd.RangeIndex)):\n"
     ]
    }
   ],
   "source": [
    "# create a model which gives the highest accuracy\n",
    "best_model = compare_models()\n",
    "print(\"Best Model:\", best_model)"
   ]
  },
  {
   "cell_type": "code",
   "execution_count": null,
   "metadata": {},
   "outputs": [],
   "source": [
    "# create feature importance plot\n",
    "plot_model(best_model, plot='feature')"
   ]
  },
  {
   "cell_type": "markdown",
   "metadata": {
    "tags": []
   },
   "source": [
    "### 5 : Model Experimentation after dropping features"
   ]
  },
  {
   "cell_type": "markdown",
   "metadata": {},
   "source": [
    "From the above feature tests we can claerly see that some of the features are not significant. We will now drop all the insignificant features and select only the significant ones.\n",
    "The list of the significant features is \n",
    "['total_leads_droppped', 'city_tier', 'referred_lead', 'app_complete_flag', 'first_platform_c', 'first_utm_medium_c', 'first_utm_source_c'].\n",
    "So now you will train your model with onlly these features.\n",
    "\n",
    "Also note that in our previous experiments we saw that tree based models are our top performers. In case of tree based models we do not require transformationss normalization, scaling etc. So make sure that you use setup pycaret in the proper way. i.e, make sure that you use normalize = False and transformation = False."
   ]
  },
  {
   "cell_type": "code",
   "execution_count": null,
   "metadata": {},
   "outputs": [],
   "source": [
    "# \n",
    "# ['total_leads_droppped', 'city_tier', 'referred_lead', 'app_complete_flag', 'first_platform_c', 'first_utm_medium_c', 'first_utm_source_c']\n",
    "#\n",
    "# Train the model using the features listed above. Since we are using tree models we do not require any transformaions \n",
    "# such as normalization, scaling etc.So make sure that you use setup pycaret in the proper way. i.e, make sure that you use \n",
    "# normalize = False and transformation = False.\n",
    "\n",
    "significant_features = ['total_leads_droppped', 'city_tier', 'referred_lead', 'app_complete_flag', 'first_platform_c', 'first_utm_medium_c', 'first_utm_source_c']\n",
    "dataset_new = dataset[cols]"
   ]
  },
  {
   "cell_type": "code",
   "execution_count": 13,
   "metadata": {
    "tags": []
   },
   "outputs": [],
   "source": [
    "# create a experimentation with pycaret and exclude ['gbc','knn','qda', 'dummy', 'svm', 'ada']. \n",
    "\n",
    "exp2 = setup(data=df, target='app_complete_flag', normalize=False, transformation=False, silent=True, \n",
    "             remove_perfect_collinearity=True, session_id=42, \n",
    "             ignore_models=['gbc', 'knn', 'qda', 'dummy', 'svm', 'ada'])\n",
    "\n",
    "\n",
    "# Compare and Select the Best Model\n",
    "best_tree_model = compare_models()\n",
    "print(\"Best Tree-Based Model:\", best_tree_model)\n",
    "plot_model(best_tree_model, plot='feature')\n",
    "\n",
    "# Tune LightGBM Model using Optuna\n",
    "def objective(trial):\n",
    "    params = {\n",
    "        'num_leaves': trial.suggest_int('num_leaves', 20, 300, step=20),\n",
    "        'learning_rate': trial.suggest_loguniform('learning_rate', 0.01, 0.2),\n",
    "        'n_estimators': trial.suggest_int('n_estimators', 50, 500, step=50),\n",
    "        'max_depth': trial.suggest_int('max_depth', 3, 12),\n",
    "    }\n",
    "    tuned_model = create_model('lightgbm', fold=10, optimize='AUC', **params)\n",
    "    return tuned_model\n",
    "\n",
    "study = optuna.create_study(direction='maximize')\n",
    "study.optimize(objective, n_trials=10)"
   ]
  },
  {
   "cell_type": "code",
   "execution_count": null,
   "metadata": {},
   "outputs": [],
   "source": [
    "# You should get lightgbm as the best performing model. So now we will train a lightGBM model manually using pycaret\n",
    "\n",
    "final_model = create_model('lightgbm', fold=10, optimize='AUC', **study.best_params)\n",
    "print(\"Final Model Configuration:\", final_model.get_params())"
   ]
  },
  {
   "cell_type": "code",
   "execution_count": null,
   "metadata": {
    "tags": []
   },
   "outputs": [],
   "source": [
    "# Tune the hyper parameters of the lightgbm model using optuna on 10 folds and optimise AUC as that was our system metric, \n",
    "# hence we will optimise AUC\n",
    "\n",
    "mlflow.set_tracking_uri(MLFLOW_TRACKING_URI)\n",
    "mlflow.set_experiment(\"Lead_Scoring_Experiment\")\n",
    "\n",
    "with mlflow.start_run():\n",
    "    mlflow.log_params(study.best_params)\n",
    "    mlflow.pycaret.log_model(final_model, MODEL_NAME)"
   ]
  },
  {
   "cell_type": "code",
   "execution_count": null,
   "metadata": {},
   "outputs": [],
   "source": [
    "# Print the final models configuration so that we can use it in the model retraining pipeline \n",
    "print(\"Training Completed and Model Logged in MLflow!\")"
   ]
  }
 ],
 "metadata": {
  "accelerator": "GPU",
  "colab": {
   "collapsed_sections": [],
   "name": "Model-AfterFeature.ipynb",
   "provenance": []
  },
  "kernelspec": {
   "display_name": "Python 3 (ipykernel)",
   "language": "python",
   "name": "python3"
  },
  "language_info": {
   "codemirror_mode": {
    "name": "ipython",
    "version": 3
   },
   "file_extension": ".py",
   "mimetype": "text/x-python",
   "name": "python",
   "nbconvert_exporter": "python",
   "pygments_lexer": "ipython3",
   "version": "3.8.12"
  },
  "vscode": {
   "interpreter": {
    "hash": "7cd94b908b2292e9d2da2e5e75d12d6a294435c608eaff704093f5bae14b723d"
   }
  },
  "widgets": {
   "application/vnd.jupyter.widget-state+json": {
    "144f839f29354f668dda71aa605216ce": {
     "model_module": "@jupyter-widgets/controls",
     "model_module_version": "1.5.0",
     "model_name": "IntProgressModel",
     "state": {
      "_dom_classes": [],
      "_model_module": "@jupyter-widgets/controls",
      "_model_module_version": "1.5.0",
      "_model_name": "IntProgressModel",
      "_view_count": null,
      "_view_module": "@jupyter-widgets/controls",
      "_view_module_version": "1.5.0",
      "_view_name": "ProgressView",
      "bar_style": "",
      "description": "Processing: ",
      "description_tooltip": null,
      "layout": "IPY_MODEL_383709fd8fda47ceadbf243d18428cf8",
      "max": 74,
      "min": 0,
      "orientation": "horizontal",
      "style": "IPY_MODEL_898da34f06fa4fd3be6fc028d246a379",
      "value": 74
     }
    },
    "383709fd8fda47ceadbf243d18428cf8": {
     "model_module": "@jupyter-widgets/base",
     "model_module_version": "1.2.0",
     "model_name": "LayoutModel",
     "state": {
      "_model_module": "@jupyter-widgets/base",
      "_model_module_version": "1.2.0",
      "_model_name": "LayoutModel",
      "_view_count": null,
      "_view_module": "@jupyter-widgets/base",
      "_view_module_version": "1.2.0",
      "_view_name": "LayoutView",
      "align_content": null,
      "align_items": null,
      "align_self": null,
      "border": null,
      "bottom": null,
      "display": null,
      "flex": null,
      "flex_flow": null,
      "grid_area": null,
      "grid_auto_columns": null,
      "grid_auto_flow": null,
      "grid_auto_rows": null,
      "grid_column": null,
      "grid_gap": null,
      "grid_row": null,
      "grid_template_areas": null,
      "grid_template_columns": null,
      "grid_template_rows": null,
      "height": null,
      "justify_content": null,
      "justify_items": null,
      "left": null,
      "margin": null,
      "max_height": null,
      "max_width": null,
      "min_height": null,
      "min_width": null,
      "object_fit": null,
      "object_position": null,
      "order": null,
      "overflow": null,
      "overflow_x": null,
      "overflow_y": null,
      "padding": null,
      "right": null,
      "top": null,
      "visibility": null,
      "width": null
     }
    },
    "8239e3c9a1714d16a804cdf4239ec7f3": {
     "model_module": "@jupyter-widgets/controls",
     "model_module_version": "1.5.0",
     "model_name": "ProgressStyleModel",
     "state": {
      "_model_module": "@jupyter-widgets/controls",
      "_model_module_version": "1.5.0",
      "_model_name": "ProgressStyleModel",
      "_view_count": null,
      "_view_module": "@jupyter-widgets/base",
      "_view_module_version": "1.2.0",
      "_view_name": "StyleView",
      "bar_color": null,
      "description_width": ""
     }
    },
    "898da34f06fa4fd3be6fc028d246a379": {
     "model_module": "@jupyter-widgets/controls",
     "model_module_version": "1.5.0",
     "model_name": "ProgressStyleModel",
     "state": {
      "_model_module": "@jupyter-widgets/controls",
      "_model_module_version": "1.5.0",
      "_model_name": "ProgressStyleModel",
      "_view_count": null,
      "_view_module": "@jupyter-widgets/base",
      "_view_module_version": "1.2.0",
      "_view_name": "StyleView",
      "bar_color": null,
      "description_width": ""
     }
    },
    "94fbf501ef6e499387332ad398f2d3ff": {
     "model_module": "@jupyter-widgets/base",
     "model_module_version": "1.2.0",
     "model_name": "LayoutModel",
     "state": {
      "_model_module": "@jupyter-widgets/base",
      "_model_module_version": "1.2.0",
      "_model_name": "LayoutModel",
      "_view_count": null,
      "_view_module": "@jupyter-widgets/base",
      "_view_module_version": "1.2.0",
      "_view_name": "LayoutView",
      "align_content": null,
      "align_items": null,
      "align_self": null,
      "border": null,
      "bottom": null,
      "display": null,
      "flex": null,
      "flex_flow": null,
      "grid_area": null,
      "grid_auto_columns": null,
      "grid_auto_flow": null,
      "grid_auto_rows": null,
      "grid_column": null,
      "grid_gap": null,
      "grid_row": null,
      "grid_template_areas": null,
      "grid_template_columns": null,
      "grid_template_rows": null,
      "height": null,
      "justify_content": null,
      "justify_items": null,
      "left": null,
      "margin": null,
      "max_height": null,
      "max_width": null,
      "min_height": null,
      "min_width": null,
      "object_fit": null,
      "object_position": null,
      "order": null,
      "overflow": null,
      "overflow_x": null,
      "overflow_y": null,
      "padding": null,
      "right": null,
      "top": null,
      "visibility": null,
      "width": null
     }
    },
    "9e278bc3113d41398166df961701e9fb": {
     "model_module": "@jupyter-widgets/controls",
     "model_module_version": "1.5.0",
     "model_name": "IntProgressModel",
     "state": {
      "_dom_classes": [],
      "_model_module": "@jupyter-widgets/controls",
      "_model_module_version": "1.5.0",
      "_model_name": "IntProgressModel",
      "_view_count": null,
      "_view_module": "@jupyter-widgets/controls",
      "_view_module_version": "1.5.0",
      "_view_name": "ProgressView",
      "bar_style": "",
      "description": "Processing: ",
      "description_tooltip": null,
      "layout": "IPY_MODEL_a048df655c51475fb7369eb70702a575",
      "max": 4,
      "min": 0,
      "orientation": "horizontal",
      "style": "IPY_MODEL_e52bcc4a1c3046bfb9e88d9e2d2218dd",
      "value": 4
     }
    },
    "a048df655c51475fb7369eb70702a575": {
     "model_module": "@jupyter-widgets/base",
     "model_module_version": "1.2.0",
     "model_name": "LayoutModel",
     "state": {
      "_model_module": "@jupyter-widgets/base",
      "_model_module_version": "1.2.0",
      "_model_name": "LayoutModel",
      "_view_count": null,
      "_view_module": "@jupyter-widgets/base",
      "_view_module_version": "1.2.0",
      "_view_name": "LayoutView",
      "align_content": null,
      "align_items": null,
      "align_self": null,
      "border": null,
      "bottom": null,
      "display": null,
      "flex": null,
      "flex_flow": null,
      "grid_area": null,
      "grid_auto_columns": null,
      "grid_auto_flow": null,
      "grid_auto_rows": null,
      "grid_column": null,
      "grid_gap": null,
      "grid_row": null,
      "grid_template_areas": null,
      "grid_template_columns": null,
      "grid_template_rows": null,
      "height": null,
      "justify_content": null,
      "justify_items": null,
      "left": null,
      "margin": null,
      "max_height": null,
      "max_width": null,
      "min_height": null,
      "min_width": null,
      "object_fit": null,
      "object_position": null,
      "order": null,
      "overflow": null,
      "overflow_x": null,
      "overflow_y": null,
      "padding": null,
      "right": null,
      "top": null,
      "visibility": null,
      "width": null
     }
    },
    "a18be2b61ba5486e9c132f9e5aa0e09e": {
     "model_module": "@jupyter-widgets/controls",
     "model_module_version": "1.5.0",
     "model_name": "IntProgressModel",
     "state": {
      "_dom_classes": [],
      "_model_module": "@jupyter-widgets/controls",
      "_model_module_version": "1.5.0",
      "_model_name": "IntProgressModel",
      "_view_count": null,
      "_view_module": "@jupyter-widgets/controls",
      "_view_module_version": "1.5.0",
      "_view_name": "ProgressView",
      "bar_style": "",
      "description": "Processing: ",
      "description_tooltip": null,
      "layout": "IPY_MODEL_94fbf501ef6e499387332ad398f2d3ff",
      "max": 3,
      "min": 0,
      "orientation": "horizontal",
      "style": "IPY_MODEL_8239e3c9a1714d16a804cdf4239ec7f3",
      "value": 3
     }
    },
    "e52bcc4a1c3046bfb9e88d9e2d2218dd": {
     "model_module": "@jupyter-widgets/controls",
     "model_module_version": "1.5.0",
     "model_name": "ProgressStyleModel",
     "state": {
      "_model_module": "@jupyter-widgets/controls",
      "_model_module_version": "1.5.0",
      "_model_name": "ProgressStyleModel",
      "_view_count": null,
      "_view_module": "@jupyter-widgets/base",
      "_view_module_version": "1.2.0",
      "_view_name": "StyleView",
      "bar_color": null,
      "description_width": ""
     }
    }
   }
  }
 },
 "nbformat": 4,
 "nbformat_minor": 4
}
